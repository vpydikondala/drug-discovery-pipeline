{
 "cells": [
  {
   "cell_type": "code",
   "execution_count": null,
   "id": "4ac63a95",
   "metadata": {},
   "outputs": [],
   "source": [
    "# Cell 1: Imports and setup\n",
    "import pandas as pd\n",
    "import numpy as np\n",
    "import seaborn as sns\n",
    "import matplotlib.pyplot as plt\n",
    "from rdkit import Chem\n",
    "from rdkit.Chem import Descriptors\n",
    "from sklearn.ensemble import RandomForestClassifier\n",
    "from sklearn.model_selection import train_test_split\n",
    "from sklearn.metrics import classification_report, confusion_matrix, accuracy_score\n"
   ]
  },
  {
   "cell_type": "code",
   "execution_count": null,
   "id": "ec8c5ece",
   "metadata": {},
   "outputs": [],
   "source": [
    "# Cell 2: Load data\n",
    "file_path = r\"data/raw/drug_data.csv\"\n",
    "df = pd.read_csv(file_path)\n",
    "df.head()\n"
   ]
  },
  {
   "cell_type": "code",
   "execution_count": null,
   "id": "28dd55cd",
   "metadata": {},
   "outputs": [],
   "source": [
    "# Cell 3: Explore the dataset\n",
    "print(\"Dataset shape:\", df.shape)\n",
    "print(\"\\nColumn names:\", df.columns)\n",
    "print(\"\\nMissing values:\\n\", df.isnull().sum())\n",
    "print(\"\\nActivity distribution:\\n\", df['activity'].value_counts())\n",
    "sns.countplot(data=df, x='activity')\n",
    "plt.title(\"Activity Class Distribution\")\n",
    "plt.show()\n"
   ]
  },
  {
   "cell_type": "code",
   "execution_count": null,
   "id": "b7cab5d8",
   "metadata": {},
   "outputs": [],
   "source": [
    "# Cell 4: Basic featurization using RDKit (e.g., Molecular Weight, LogP)\n",
    "def featurize(smiles):\n",
    "    mol = Chem.MolFromSmiles(smiles)\n",
    "    if mol:\n",
    "        return [\n",
    "            Descriptors.MolWt(mol),\n",
    "            Descriptors.MolLogP(mol),\n",
    "            Descriptors.NumHDonors(mol),\n",
    "            Descriptors.NumHAcceptors(mol)\n",
    "        ]\n",
    "    else:\n",
    "        return [np.nan] * 4\n",
    "\n",
    "features = df['smiles'].apply(featurize)\n",
    "features_df = pd.DataFrame(features.tolist(), columns=['MolWt', 'LogP', 'HDonors', 'HAcceptors'])\n",
    "df_features = pd.concat([df, features_df], axis=1).dropna()\n",
    "df_features.head()\n"
   ]
  },
  {
   "cell_type": "code",
   "execution_count": null,
   "id": "619bead9",
   "metadata": {},
   "outputs": [],
   "source": [
    "# Cell 5: Split the data\n",
    "X = df_features[['MolWt', 'LogP', 'HDonors', 'HAcceptors']]\n",
    "y = df_features['activity']\n",
    "\n",
    "X_train, X_test, y_train, y_test = train_test_split(X, y, test_size=0.2, random_state=42)\n"
   ]
  },
  {
   "cell_type": "code",
   "execution_count": null,
   "id": "55aa7f5d",
   "metadata": {},
   "outputs": [],
   "source": [
    "# Cell 6: Train RandomForest model\n",
    "clf = RandomForestClassifier(n_estimators=100, random_state=42)\n",
    "clf.fit(X_train, y_train)\n",
    "y_pred = clf.predict(X_test)\n",
    "\n",
    "print(\"Accuracy:\", accuracy_score(y_test, y_pred))\n",
    "print(\"\\nClassification Report:\\n\", classification_report(y_test, y_pred))\n"
   ]
  },
  {
   "cell_type": "code",
   "execution_count": null,
   "id": "23962938",
   "metadata": {},
   "outputs": [],
   "source": [
    "# Cell 7: Confusion Matrix\n",
    "conf_matrix = confusion_matrix(y_test, y_pred)\n",
    "sns.heatmap(conf_matrix, annot=True, fmt='d', cmap='Blues')\n",
    "plt.xlabel(\"Predicted\")\n",
    "plt.ylabel(\"True\")\n",
    "plt.title(\"Confusion Matrix\")\n",
    "plt.show()\n"
   ]
  },
  {
   "cell_type": "code",
   "execution_count": null,
   "id": "b240d59f",
   "metadata": {},
   "outputs": [],
   "source": [
    "# Cell 8: Save the model (optional)\n",
    "import joblib\n",
    "joblib.dump(clf, 'models/drug_model.pkl')\n"
   ]
  }
 ],
 "metadata": {
  "language_info": {
   "name": "python"
  }
 },
 "nbformat": 4,
 "nbformat_minor": 5
}
